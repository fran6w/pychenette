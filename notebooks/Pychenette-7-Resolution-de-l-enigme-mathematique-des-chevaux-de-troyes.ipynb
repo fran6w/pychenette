{
 "cells": [
  {
   "cell_type": "markdown",
   "id": "e3f74bf5-4176-4912-a9e2-a4fc0f7642b2",
   "metadata": {},
   "source": [
    "# Pychenette n° 7 : Résolution de l'énigme mathématique des chevaux de Troyes\n",
    "\n",
    "**Pychenette** est une série de notebooks, en français, courts et originaux avec Python.\n",
    "\n",
    "**Auteur** : Francis Wolinski\n",
    "\n",
    "Pour tout commentaire : pychenette[at]yotta-conseil.fr\n",
    "\n",
    "## L'idée de ce notebook\n",
    "\n",
    "Le Monde du 22 février 2025 a publié une énigme mathématique.\n",
    "\n",
    "Voir : https://www.lemonde.fr/sciences/article/2025/02/22/les-chevaux-de-troyes-l-enigme-maths-du-monde-n-46_6558710_1650684.html\n",
    "\n",
    "Nous la résolvons en utilisant la librairie **highspy** qui s'appuie sur **HiGHS**, un logiciel d'optimisation basé sur la programmation linéaire.\n",
    "\n",
    "## L'énigme\n",
    "\n",
    "<div style=\"font-style:italic;\">Il se raconte qu’autrefois, au marché de la ville de Troyes, on vit venir, un beau matin, une vendeuse de trois fois rien qui voyageait sans repos sur un attelage de trois chevaux.\n",
    "    \n",
    "Un passant qui l’observait installer son étal sur la place du marché l’interpella.\n",
    "\n",
    "— Ce sont trois bien beaux chevaux que vous avez là ! Pardonnez ma curiosité, mais puis-je vous demander quel âge ils ont ?\n",
    "\n",
    "— L’un d’entre eux est trois fois plus vieux qu’un des deux autres, se contenta de répondre la marchande.\n",
    "\n",
    "Le passant passa, médita quelques instants cette réponse, puis revint auprès de l’étal.\n",
    "\n",
    "— Veuillez m’excuser, insista-t-il, mais ce que vous venez de m’apprendre ne me dit pas quel âge ont vos chevaux.\n",
    "\n",
    "— Apprenez, monsieur, que je voyageais déjà avec ces trois chevaux il y a trois ans. Et, à cette époque déjà, l’un d’entre eux était trois fois plus vieux qu’un des deux autres.\n",
    "\n",
    "Le passant repassa, marcha un peu plus longtemps dans les rues de Troyes, avant de revenir vers la marchande.\n",
    "\n",
    "— Vous me voyez à nouveau navré, reprit-il, mais je ne sais toujours pas quel âge ont vos chevaux.\n",
    "\n",
    "— Dans ce cas, lança la marchande, sachez que si j’ai la fortune de toujours voyager avec ces trois chevaux dans trois ans, alors l’un d’eux sera trois fois plus vieux que l’un des deux autres.\n",
    "\n",
    "A ces mots, le visage du passant s’illumina.\n",
    "\n",
    "— Je vous remercie, madame, d’avoir répondu à ma question ! Ce sont trois bien beaux chevaux que vous avez là.\n",
    "\n",
    "Quel âge ont les chevaux de Troyes ?</div>"
   ]
  },
  {
   "cell_type": "markdown",
   "id": "05b0c49a-ed9e-4720-ab0c-36c4647f84b7",
   "metadata": {},
   "source": [
    "## Résolution de l'énigme\n",
    "\n",
    "On définit 3 variables *a*, *b* et *c* pour l'âge de chacun des 3 chevaux.\n",
    "\n",
    "Ensuite on exprime les différentes contraintes :\n",
    "- i. L’un d’entre eux est trois fois plus vieux qu’un des deux autres : *a = 3 x b*\n",
    "- ii. Il y a trois ans, l’un d’entre eux était trois fois plus vieux qu’un des deux autres : *b - 3 = 3 x (c - 3)*\n",
    "- iii. Dans trois ans, l’un d’eux sera trois fois plus vieux que l’un des deux autres : *a + 3 = 3 x (c + 3)*\n",
    "\n",
    "Enfin, on cherche à minimer les 3 âges, par exemple en minimisant leur somme.\n",
    "\n",
    "*Nota bene* : le solveur retourne des flottants qu'il faut arrondir."
   ]
  },
  {
   "cell_type": "code",
   "execution_count": 1,
   "id": "a23c1ed4-89bc-4b84-9912-e1390dc82be7",
   "metadata": {},
   "outputs": [],
   "source": [
    "# import\n",
    "import highspy"
   ]
  },
  {
   "cell_type": "code",
   "execution_count": 2,
   "id": "313fb798-df2c-4827-8661-aa3ef6b14191",
   "metadata": {},
   "outputs": [
    {
     "name": "stdout",
     "output_type": "stream",
     "text": [
      "Running HiGHS 1.11.0 (git hash: 364c83a): Copyright (c) 2025 HiGHS under MIT licence terms\n",
      "LP   has 3 rows; 3 cols; 6 nonzeros\n",
      "Coefficient ranges:\n",
      "  Matrix [1e+00, 3e+00]\n",
      "  Cost   [1e+00, 1e+00]\n",
      "  Bound  [0e+00, 0e+00]\n",
      "  RHS    [6e+00, 6e+00]\n",
      "Presolving model\n",
      "0 rows, 0 cols, 0 nonzeros  0s\n",
      "0 rows, 0 cols, 0 nonzeros  0s\n",
      "Presolve : Reductions: rows 0(-3); columns 0(-3); elements 0(-6) - Reduced to empty\n",
      "Solving the original LP from the solution after postsolve\n",
      "Model status        : Optimal\n",
      "Objective value     :  2.8000000000e+01\n",
      "P-D objective error :  6.2328310154e-17\n",
      "HiGHS run time      :          0.00\n",
      "LP   has 3 rows; 3 cols; 6 nonzeros\n",
      "Coefficient ranges:\n",
      "  Matrix [1e+00, 3e+00]\n",
      "  Cost   [1e+00, 1e+00]\n",
      "  Bound  [0e+00, 0e+00]\n",
      "  RHS    [6e+00, 6e+00]\n",
      "Solving LP without presolve, or with basis, or unconstrained\n",
      "Model status        : Optimal\n",
      "Objective value     :  2.8000000000e+01\n",
      "P-D objective error :  6.2328310154e-17\n",
      "HiGHS run time      :          0.00\n"
     ]
    },
    {
     "data": {
      "text/plain": [
       "<HighsStatus.kOk: 0>"
      ]
     },
     "execution_count": 2,
     "metadata": {},
     "output_type": "execute_result"
    }
   ],
   "source": [
    "# problème\n",
    "\n",
    "# définition d'un nouveau problème\n",
    "h = highspy.Highs()\n",
    "\n",
    "# définition des variables\n",
    "a = h.addVariable()\n",
    "b = h.addVariable()\n",
    "c = h.addVariable()\n",
    "\n",
    "# expression des contraintes\n",
    "h.addConstr(a == 3 * b)\n",
    "h.addConstr(b - 3 == 3 * (c - 3))\n",
    "h.addConstr(a + 3 == 3 * (c + 3))\n",
    "\n",
    "# valeur à minimiser\n",
    "h.minimize(a + b + c)\n",
    "\n",
    "# lancement de l'algorithme\n",
    "h.run()"
   ]
  },
  {
   "cell_type": "markdown",
   "id": "1d6082f9-e897-42f7-be3f-a0a364d1358c",
   "metadata": {},
   "source": [
    "## Solution\n",
    "\n",
    "La solution trouvée est : 18, 6 et 4 :\n",
    "- i. 18 = 3 x 6\n",
    "- ii. 6 - 3 = 3 x (4 - 3)\n",
    "- iii. 18 + 3 = 3 x (4 + 3)"
   ]
  },
  {
   "cell_type": "code",
   "execution_count": 3,
   "id": "5d88e7ba-c8ab-4111-91bd-e163445a5c49",
   "metadata": {},
   "outputs": [
    {
     "name": "stdout",
     "output_type": "stream",
     "text": [
      "Solution brute :  [17.999999999999996, 5.999999999999999, 4.0]\n",
      "Solution entière :  [18, 6, 4]\n"
     ]
    }
   ],
   "source": [
    "# solution\n",
    "\n",
    "solution = h.getSolution()\n",
    "\n",
    "print(\"Solution brute : \", solution.col_value)\n",
    "print(\"Solution entière : \", list(map(round, solution.col_value)))"
   ]
  }
 ],
 "metadata": {
  "kernelspec": {
   "display_name": "Python 3 (ipykernel)",
   "language": "python",
   "name": "python3"
  },
  "language_info": {
   "codemirror_mode": {
    "name": "ipython",
    "version": 3
   },
   "file_extension": ".py",
   "mimetype": "text/x-python",
   "name": "python",
   "nbconvert_exporter": "python",
   "pygments_lexer": "ipython3",
   "version": "3.13.3"
  }
 },
 "nbformat": 4,
 "nbformat_minor": 5
}
