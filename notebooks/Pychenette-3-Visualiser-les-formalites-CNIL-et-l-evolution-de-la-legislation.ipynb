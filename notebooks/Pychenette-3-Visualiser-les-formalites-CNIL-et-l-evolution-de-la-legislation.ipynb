{
 "cells": [
  {
   "cell_type": "markdown",
   "metadata": {},
   "source": [
    "# Pychenette n° 3 : Visualiser les formalités CNIL et l'évolution de la législation\n",
    "\n",
    "**Pychenette** est une série de notebooks, en français, courts et originaux avec Python.\n",
    "\n",
    "**Auteur** : Francis Wolinski\n",
    "\n",
    "Pour tout commentaire : pychenette[at]yotta-conseil.fr"
   ]
  },
  {
   "cell_type": "markdown",
   "metadata": {},
   "source": [
    "#### L'idée de ce notebook\n",
    "\n",
    "A partir du fichier des formalités préalables accomplies auprès de la CNIL depuis 1979, on visualise le nombre de formalités, ainsi que les modifications législatives du texte initial.\n",
    "\n",
    "Données utilisées :\n",
    "- Pour les formalités, on utilise le fichier `formalites-prealables-cnil.csv` : https://public.opendatasoft.com/explore/dataset/formalites-prealables-cnil/information/?flg=fr\n",
    "- Pour modifications législatives du texte initial, on utilise le texte de la page web : https://www.legifrance.gouv.fr/loda/id/JORFTEXT000000886460/\n",
    "\n",
    "<a href=\"notebooks/Pychenette-3-Visualiser-les-formalites-CNIL-et-l-evolution-de-la-legislation.ipynb\">Accès au notebook</a>\n",
    "\n",
    "<a href=\"https://pychenette.yotta-conseil.fr/\"><i class=\"fa fa-home\"></i></a>"
   ]
  },
  {
   "cell_type": "code",
   "execution_count": 1,
   "metadata": {},
   "outputs": [],
   "source": [
    "# imports\n",
    "import datetime\n",
    "import locale\n",
    "import os\n",
    "import re\n",
    "\n",
    "import pandas as pd\n",
    "import matplotlib.pyplot as plt\n",
    "\n",
    "from bs4 import BeautifulSoup"
   ]
  },
  {
   "cell_type": "markdown",
   "metadata": {},
   "source": [
    "### Chargement des formalités accomplies\n",
    "\n",
    "Les formalités accomplies sont recensées dans un fichier CSV pour lequel seule la colonne \"Date d'enregistrement\" est utilisée. Il y a 1,4 M de lignes.\n",
    "\n",
    "On détermine le nombre de formalités par an. Le fichier n'a pas été mis à jour depuis 2017, sachant que la réglementation RGPD est intervenue en 2018 et a modifié en profondeur le dispositif législatif."
   ]
  },
  {
   "cell_type": "code",
   "execution_count": 2,
   "metadata": {},
   "outputs": [
    {
     "data": {
      "text/plain": [
       "(1405434, 1)"
      ]
     },
     "execution_count": 2,
     "metadata": {},
     "output_type": "execute_result"
    }
   ],
   "source": [
    "df = pd.read_csv(\"formalites-prealables-cnil.csv\",\n",
    "                  sep=\";\",\n",
    "                  parse_dates=[\"Date d'enregistrement\"],\n",
    "                  usecols=[\"Date d'enregistrement\"])\n",
    "df.shape"
   ]
  },
  {
   "cell_type": "code",
   "execution_count": 3,
   "metadata": {},
   "outputs": [
    {
     "data": {
      "text/plain": [
       "39"
      ]
     },
     "execution_count": 3,
     "metadata": {},
     "output_type": "execute_result"
    }
   ],
   "source": [
    "nb_formalites = df.groupby(\"Date d'enregistrement\").size().resample('Y').sum().iloc[:-1]\n",
    "len(nb_formalites)"
   ]
  },
  {
   "cell_type": "markdown",
   "metadata": {},
   "source": [
    "### Chargement des modifications législatives\n",
    "\n",
    "On extrait de la page HTML du site *légifrance* les différents textes qui sont venus modifier la Loi n° 78-17 du 6 janvier 1978 relative à l'informatique, aux fichiers et aux libertés.\n",
    "\n",
    "Les textes à collecter sont cités dans les tags HTML \"a\". Une expression régulière permet d'extraire la nature des textes (Loi ou Ordonnance), son numéro ainsi que la date. Pour pouvoir parser les dates avec Python, il faut compléter avec un 0 à gauche les jours lorsqu'ils ne sont composés que d'un seul chiffre.\n",
    "\n",
    "On construit un `DataFrame` à deux colonnes avec les dates et les textes correspondants."
   ]
  },
  {
   "cell_type": "code",
   "execution_count": 4,
   "metadata": {},
   "outputs": [],
   "source": [
    "data = []\n",
    "\n",
    "html = open(\"JORFTEXT000000886460.html\").read()\n",
    "\n",
    "soup = BeautifulSoup(html)\n",
    "\n",
    "for a in soup.find_all(\"a\"):\n",
    "    text = a.text\n",
    "    if (text.lower().find(\"n°\") != -1) \\\n",
    "        and ((text.lower().find(\"loi\") != -1) or (text.lower().find(\"ordonnance\") != -1)):\n",
    "        m = re.search(r\"(loi|ordonnance) n°\\s*(\\d+-\\d+) du (\\d+ \\w+ \\d+)\", text, flags=re.I)\n",
    "        if m:\n",
    "            texte, no, date = m.groups()\n",
    "            if re.match('^\\d ', date):\n",
    "                date = \"0\" + date\n",
    "        data.append((date, f\"{texte} n° {no}\"))"
   ]
  },
  {
   "cell_type": "code",
   "execution_count": 5,
   "metadata": {},
   "outputs": [
    {
     "data": {
      "text/html": [
       "<div>\n",
       "<style scoped>\n",
       "    .dataframe tbody tr th:only-of-type {\n",
       "        vertical-align: middle;\n",
       "    }\n",
       "\n",
       "    .dataframe tbody tr th {\n",
       "        vertical-align: top;\n",
       "    }\n",
       "\n",
       "    .dataframe thead th {\n",
       "        text-align: right;\n",
       "    }\n",
       "</style>\n",
       "<table border=\"1\" class=\"dataframe\">\n",
       "  <thead>\n",
       "    <tr style=\"text-align: right;\">\n",
       "      <th></th>\n",
       "      <th>date</th>\n",
       "      <th>texte</th>\n",
       "    </tr>\n",
       "  </thead>\n",
       "  <tbody>\n",
       "    <tr>\n",
       "      <th>0</th>\n",
       "      <td>1988-03-11</td>\n",
       "      <td>Loi n° 88-227</td>\n",
       "    </tr>\n",
       "    <tr>\n",
       "      <th>1</th>\n",
       "      <td>1992-12-16</td>\n",
       "      <td>Loi n° 92-1336</td>\n",
       "    </tr>\n",
       "    <tr>\n",
       "      <th>2</th>\n",
       "      <td>1994-07-01</td>\n",
       "      <td>Loi n° 94-548</td>\n",
       "    </tr>\n",
       "    <tr>\n",
       "      <th>3</th>\n",
       "      <td>2000-04-12</td>\n",
       "      <td>Loi n° 2000-321</td>\n",
       "    </tr>\n",
       "    <tr>\n",
       "      <th>4</th>\n",
       "      <td>2000-09-19</td>\n",
       "      <td>Ordonnance n° 2000-916</td>\n",
       "    </tr>\n",
       "    <tr>\n",
       "      <th>5</th>\n",
       "      <td>2004-08-06</td>\n",
       "      <td>Loi n° 2004-801</td>\n",
       "    </tr>\n",
       "    <tr>\n",
       "      <th>6</th>\n",
       "      <td>2005-12-08</td>\n",
       "      <td>Ordonnance n° 2005-1516</td>\n",
       "    </tr>\n",
       "    <tr>\n",
       "      <th>7</th>\n",
       "      <td>2016-01-26</td>\n",
       "      <td>Loi n° 2016-41</td>\n",
       "    </tr>\n",
       "    <tr>\n",
       "      <th>8</th>\n",
       "      <td>2016-10-07</td>\n",
       "      <td>Loi n° 2016-1321</td>\n",
       "    </tr>\n",
       "    <tr>\n",
       "      <th>9</th>\n",
       "      <td>2017-01-20</td>\n",
       "      <td>Loi n° 2017-55</td>\n",
       "    </tr>\n",
       "    <tr>\n",
       "      <th>10</th>\n",
       "      <td>2018-06-20</td>\n",
       "      <td>Loi n° 2018-493</td>\n",
       "    </tr>\n",
       "    <tr>\n",
       "      <th>11</th>\n",
       "      <td>2018-12-12</td>\n",
       "      <td>Ordonnance n° 2018-1125</td>\n",
       "    </tr>\n",
       "    <tr>\n",
       "      <th>12</th>\n",
       "      <td>2019-07-24</td>\n",
       "      <td>Loi n° 2019-774</td>\n",
       "    </tr>\n",
       "    <tr>\n",
       "      <th>13</th>\n",
       "      <td>2019-08-06</td>\n",
       "      <td>Loi n° 2019-828</td>\n",
       "    </tr>\n",
       "    <tr>\n",
       "      <th>14</th>\n",
       "      <td>2019-09-18</td>\n",
       "      <td>Ordonnance n° 2019-964</td>\n",
       "    </tr>\n",
       "    <tr>\n",
       "      <th>15</th>\n",
       "      <td>2021-07-30</td>\n",
       "      <td>Loi n° 2021-998</td>\n",
       "    </tr>\n",
       "    <tr>\n",
       "      <th>16</th>\n",
       "      <td>2021-08-02</td>\n",
       "      <td>Loi n° 2021-1017</td>\n",
       "    </tr>\n",
       "    <tr>\n",
       "      <th>17</th>\n",
       "      <td>2022-01-24</td>\n",
       "      <td>Loi n° 2022-52</td>\n",
       "    </tr>\n",
       "  </tbody>\n",
       "</table>\n",
       "</div>"
      ],
      "text/plain": [
       "         date                    texte\n",
       "0  1988-03-11            Loi n° 88-227\n",
       "1  1992-12-16           Loi n° 92-1336\n",
       "2  1994-07-01            Loi n° 94-548\n",
       "3  2000-04-12          Loi n° 2000-321\n",
       "4  2000-09-19   Ordonnance n° 2000-916\n",
       "5  2004-08-06          Loi n° 2004-801\n",
       "6  2005-12-08  Ordonnance n° 2005-1516\n",
       "7  2016-01-26           Loi n° 2016-41\n",
       "8  2016-10-07         Loi n° 2016-1321\n",
       "9  2017-01-20           Loi n° 2017-55\n",
       "10 2018-06-20          Loi n° 2018-493\n",
       "11 2018-12-12  Ordonnance n° 2018-1125\n",
       "12 2019-07-24          Loi n° 2019-774\n",
       "13 2019-08-06          Loi n° 2019-828\n",
       "14 2019-09-18   Ordonnance n° 2019-964\n",
       "15 2021-07-30          Loi n° 2021-998\n",
       "16 2021-08-02         Loi n° 2021-1017\n",
       "17 2022-01-24           Loi n° 2022-52"
      ]
     },
     "execution_count": 5,
     "metadata": {},
     "output_type": "execute_result"
    }
   ],
   "source": [
    "locale.setlocale(locale.LC_TIME, 'fr' if os.name == 'nt' else 'fr_FR.utf8')\n",
    "\n",
    "df_textes = pd.DataFrame(data, columns=[\"date\", \"texte\"])\n",
    "df_textes = (df_textes.drop_duplicates()\n",
    "                      .assign(date=lambda df_: pd.to_datetime(df_[\"date\"], format=\"%d %B %Y\"),\n",
    "                              texte=lambda df_: df_[\"texte\"].str.capitalize())\n",
    "                      .sort_values(by=\"date\")\n",
    "                      .reset_index(drop=True)\n",
    "          )\n",
    "df_textes"
   ]
  },
  {
   "cell_type": "markdown",
   "metadata": {},
   "source": [
    "### Visualisation du nombre de formatilés au regard des évolutions législatives\n",
    "\n",
    "On visualise le nombre de formalités effectuées annuellement entre 1979 et 2017.\n",
    "\n",
    "On annote le graphique avec les évolutions législatives sur la période."
   ]
  },
  {
   "cell_type": "code",
   "execution_count": 6,
   "metadata": {
    "scrolled": false
   },
   "outputs": [
    {
     "data": {
      "image/png": "[encoded data removed]",
      "text/plain": [
       "<Figure size 720x432 with 1 Axes>"
      ]
     },
     "metadata": {
      "needs_background": "light"
     },
     "output_type": "display_data"
    }
   ],
   "source": [
    "fig, ax = plt.subplots(1, figsize=(10, 6))\n",
    "\n",
    "ax.set_ylabel(\"Nombre d'enregistrements\")\n",
    "ax.set_title(\"Formalités préalables accomplies auprès de la CNIL\")\n",
    "\n",
    "nb_formalites.plot(ax=ax)\n",
    "\n",
    "df_textes = df_textes.loc[df_textes[\"date\"] <= nb_formalites.index.max()]\n",
    "\n",
    "x = nb_formalites.index.max() + datetime.timedelta(days=2000)\n",
    "y = nb_formalites.max() / len(df_textes)\n",
    "\n",
    "for i, date, loi in df_textes.itertuples():\n",
    "    \n",
    "    try:\n",
    "        value = nb_formalites[date.replace(month=12, day=31)]\n",
    "    except:\n",
    "        value = 0\n",
    "        \n",
    "    ax.annotate(loi,\n",
    "                xy=(date, value),\n",
    "                xytext=(x, i * y),\n",
    "                fontsize=10,\n",
    "                horizontalalignment='left',\n",
    "                arrowprops=dict(arrowstyle=\"->\", connectionstyle=\"arc3\"))"
   ]
  }
 ],
 "metadata": {
  "kernelspec": {
   "display_name": "Python 3 (ipykernel)",
   "language": "python",
   "name": "python3"
  },
  "language_info": {
   "codemirror_mode": {
    "name": "ipython",
    "version": 3
   },
   "file_extension": ".py",
   "mimetype": "text/x-python",
   "name": "python",
   "nbconvert_exporter": "python",
   "pygments_lexer": "ipython3",
   "version": "3.9.12"
  }
 },
 "nbformat": 4,
 "nbformat_minor": 2
}
